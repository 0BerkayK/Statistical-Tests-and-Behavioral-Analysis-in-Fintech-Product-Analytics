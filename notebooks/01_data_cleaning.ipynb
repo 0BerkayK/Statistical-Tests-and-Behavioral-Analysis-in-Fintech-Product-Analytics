{
 "cells": [
  {
   "cell_type": "code",
   "execution_count": 1,
   "id": "dc970852-0b84-4402-b02e-5eec568f3e65",
   "metadata": {},
   "outputs": [],
   "source": [
    "import os\n",
    "import pandas as pd\n",
    "import numpy as np"
   ]
  },
  {
   "cell_type": "code",
   "execution_count": 2,
   "id": "a7ee49ba-bdc9-42ab-b9e5-511d522c52f0",
   "metadata": {},
   "outputs": [],
   "source": [
    "# Paths\n",
    "RAW_DIR = '../data/raw'\n",
    "CLEAN_DIR = '../data/cleaned'\n",
    "os.makedirs(CLEAN_DIR, exist_ok=True)"
   ]
  },
  {
   "cell_type": "code",
   "execution_count": 3,
   "id": "cb096104-275f-483e-a36e-1c2bcedec84d",
   "metadata": {},
   "outputs": [],
   "source": [
    "users = pd.read_csv(os.path.join(RAW_DIR, 'users.csv'), parse_dates=['signup_date'])\n",
    "transactions = pd.read_csv(os.path.join(RAW_DIR, 'transactions.csv'), parse_dates=['transaction_date'])"
   ]
  },
  {
   "cell_type": "code",
   "execution_count": 5,
   "id": "06c07916-0035-41b1-b158-c77d66c02267",
   "metadata": {},
   "outputs": [
    {
     "name": "stdout",
     "output_type": "stream",
     "text": [
      "<class 'pandas.core.frame.DataFrame'>\n",
      "RangeIndex: 2002 entries, 0 to 2001\n",
      "Data columns (total 5 columns):\n",
      " #   Column          Non-Null Count  Dtype         \n",
      "---  ------          --------------  -----         \n",
      " 0   user_id         2002 non-null   int64         \n",
      " 1   signup_date     2002 non-null   datetime64[ns]\n",
      " 2   age             2001 non-null   float64       \n",
      " 3   region          2001 non-null   object        \n",
      " 4   signup_channel  2002 non-null   object        \n",
      "dtypes: datetime64[ns](1), float64(1), int64(1), object(2)\n",
      "memory usage: 78.3+ KB\n",
      "None\n",
      "<class 'pandas.core.frame.DataFrame'>\n",
      "RangeIndex: 6000 entries, 0 to 5999\n",
      "Data columns (total 6 columns):\n",
      " #   Column                 Non-Null Count  Dtype         \n",
      "---  ------                 --------------  -----         \n",
      " 0   transaction_id         6000 non-null   int64         \n",
      " 1   user_id                5999 non-null   float64       \n",
      " 2   transaction_date       6000 non-null   datetime64[ns]\n",
      " 3   amount                 5999 non-null   float64       \n",
      " 4   transaction_type       6000 non-null   object        \n",
      " 5   used_instant_transfer  6000 non-null   bool          \n",
      "dtypes: bool(1), datetime64[ns](1), float64(2), int64(1), object(1)\n",
      "memory usage: 240.4+ KB\n",
      "None\n"
     ]
    }
   ],
   "source": [
    "# Preview\n",
    "print(users.info())\n",
    "print(transactions.info())"
   ]
  },
  {
   "cell_type": "code",
   "execution_count": 12,
   "id": "2a95f71c-1be5-4d00-914e-c3d68d1a9e00",
   "metadata": {},
   "outputs": [],
   "source": [
    "# Data Cleaning\n",
    "\n",
    "transactions = transactions.drop_duplicates()\n",
    "transactions['amount'] = pd.to_numeric(transactions['amount'], errors='coerce')\n",
    "transactions = transactions.dropna(subset=['user_id', 'transaction_date', 'amount'])"
   ]
  },
  {
   "cell_type": "code",
   "execution_count": 18,
   "id": "9edff535-9513-47af-9395-c40431eb903b",
   "metadata": {},
   "outputs": [
    {
     "name": "stdout",
     "output_type": "stream",
     "text": [
      "user_id           0\n",
      "signup_date       0\n",
      "age               1\n",
      "region            1\n",
      "signup_channel    0\n",
      "dtype: int64\n",
      "transaction_id           0\n",
      "user_id                  0\n",
      "transaction_date         0\n",
      "amount                   0\n",
      "transaction_type         0\n",
      "used_instant_transfer    0\n",
      "dtype: int64\n"
     ]
    }
   ],
   "source": [
    "# Checking missing values\n",
    "\n",
    "print(users.isnull().sum())\n",
    "\n",
    "print(transactions.isnull().sum())"
   ]
  },
  {
   "cell_type": "code",
   "execution_count": 20,
   "id": "c91455d5-e86e-43ec-bb2e-d1c2cba50232",
   "metadata": {},
   "outputs": [],
   "source": [
    "transactions_cleaned = transactions.dropna()"
   ]
  },
  {
   "cell_type": "code",
   "execution_count": 21,
   "id": "0df4eb3c-a12a-423c-9c90-7b472c57c387",
   "metadata": {},
   "outputs": [
    {
     "name": "stdout",
     "output_type": "stream",
     "text": [
      "outliers: 59\n"
     ]
    }
   ],
   "source": [
    "# Outlier Detection\n",
    "amt_mean = transactions['amount'].mean()\n",
    "amt_std = transactions['amount'].std()\n",
    "_outliers = transactions[transactions_cleaned['amount'] > amt_mean + 4*amt_std]\n",
    "print('outliers:', _outliers.shape[0])"
   ]
  },
  {
   "cell_type": "code",
   "execution_count": 22,
   "id": "935a0267-d7a5-4514-8913-ab209ea747a7",
   "metadata": {},
   "outputs": [],
   "source": [
    "# Save the Cleaned Dataset\n",
    "users.to_csv(os.path.join(CLEAN_DIR, 'users_cleaned.csv'), index=False)\n",
    "transactions_cleaned.to_csv(os.path.join(CLEAN_DIR, 'transactions_cleaned.csv'), index=False)"
   ]
  },
  {
   "cell_type": "code",
   "execution_count": null,
   "id": "5d33f29c-2e31-4adb-893f-cc2e5d2c0f28",
   "metadata": {},
   "outputs": [],
   "source": []
  }
 ],
 "metadata": {
  "kernelspec": {
   "display_name": "Python 3 (ipykernel)",
   "language": "python",
   "name": "python3"
  },
  "language_info": {
   "codemirror_mode": {
    "name": "ipython",
    "version": 3
   },
   "file_extension": ".py",
   "mimetype": "text/x-python",
   "name": "python",
   "nbconvert_exporter": "python",
   "pygments_lexer": "ipython3",
   "version": "3.12.7"
  }
 },
 "nbformat": 4,
 "nbformat_minor": 5
}

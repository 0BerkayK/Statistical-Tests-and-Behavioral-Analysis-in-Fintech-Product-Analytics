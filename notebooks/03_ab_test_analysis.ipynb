{
 "cells": [
  {
   "cell_type": "code",
   "execution_count": 1,
   "id": "f6f471ed-d6d8-4572-bdd1-60317d2610e1",
   "metadata": {},
   "outputs": [],
   "source": [
    "import pandas as pd\n",
    "import numpy as np\n",
    "from statsmodels.stats.proportion import proportions_ztest"
   ]
  },
  {
   "cell_type": "markdown",
   "id": "0b4c49df-cd3c-4fe6-8939-96d66cef756c",
   "metadata": {},
   "source": [
    "### proportions z-test"
   ]
  },
  {
   "cell_type": "code",
   "execution_count": 3,
   "id": "1b71eea0-7ec5-4b4c-9816-c40dde883c64",
   "metadata": {},
   "outputs": [],
   "source": [
    "users = pd.read_csv('../data/cleaned/users_cleaned.csv', parse_dates=['signup_date'])\n",
    "transactions = pd.read_csv('../data/cleaned/transactions_cleaned.csv', parse_dates=['transaction_date'])"
   ]
  },
  {
   "cell_type": "code",
   "execution_count": 8,
   "id": "440599ed-6cf3-409c-94cc-24eda7e88661",
   "metadata": {},
   "outputs": [],
   "source": [
    "# 0/1 conversion (retention)\n",
    "assigned = users[['user_id']].copy()\n",
    "np.random.seed(42)\n",
    "assigned['group'] = np.random.choice(['control','treatment'], size=len(assigned), p=[0.5,0.5])"
   ]
  },
  {
   "cell_type": "code",
   "execution_count": 9,
   "id": "937e0117-6577-4ab8-a0c1-bf43265d4946",
   "metadata": {},
   "outputs": [],
   "source": [
    "# simulate conversion rates\n",
    "conv_rate_control = 0.12\n",
    "conv_rate_treatment = 0.15"
   ]
  },
  {
   "cell_type": "code",
   "execution_count": 10,
   "id": "c15ffddf-5f86-4a5d-b91b-a6c6d5926d05",
   "metadata": {},
   "outputs": [],
   "source": [
    "assigned['converted'] = assigned['group'].apply(lambda g: np.random.binomial(1, conv_rate_treatment if g=='treatment' else conv_rate_control))"
   ]
  },
  {
   "cell_type": "code",
   "execution_count": 11,
   "id": "ee390298-382d-4639-8a0a-1bd27e898f09",
   "metadata": {},
   "outputs": [
    {
     "name": "stdout",
     "output_type": "stream",
     "text": [
      "z-stat: -1.541536530058357 p-value: 0.12318625934851497\n"
     ]
    }
   ],
   "source": [
    "count = assigned.groupby('group')['converted'].sum().values\n",
    "nobs = assigned.groupby('group')['converted'].count().values\n",
    "stat, pval = proportions_ztest(count, nobs)\n",
    "print('z-stat:', stat, 'p-value:', pval)"
   ]
  },
  {
   "cell_type": "code",
   "execution_count": 16,
   "id": "2c3cd637-9063-41ae-b2bb-e8061b32c065",
   "metadata": {},
   "outputs": [
    {
     "data": {
      "text/plain": [
       "<function statsmodels.stats.proportion.proportions_ztest(count, nobs, value=None, alternative='two-sided', prop_var=False)>"
      ]
     },
     "execution_count": 16,
     "metadata": {},
     "output_type": "execute_result"
    }
   ],
   "source": [
    "proportions_ztest"
   ]
  },
  {
   "cell_type": "code",
   "execution_count": 18,
   "id": "4769c5a9-778e-4fd3-82fd-178f147314d5",
   "metadata": {},
   "outputs": [
    {
     "data": {
      "text/html": [
       "<div>\n",
       "<style scoped>\n",
       "    .dataframe tbody tr th:only-of-type {\n",
       "        vertical-align: middle;\n",
       "    }\n",
       "\n",
       "    .dataframe tbody tr th {\n",
       "        vertical-align: top;\n",
       "    }\n",
       "\n",
       "    .dataframe thead th {\n",
       "        text-align: right;\n",
       "    }\n",
       "</style>\n",
       "<table border=\"1\" class=\"dataframe\">\n",
       "  <thead>\n",
       "    <tr style=\"text-align: right;\">\n",
       "      <th></th>\n",
       "      <th>user_id</th>\n",
       "      <th>group</th>\n",
       "      <th>converted</th>\n",
       "    </tr>\n",
       "  </thead>\n",
       "  <tbody>\n",
       "    <tr>\n",
       "      <th>0</th>\n",
       "      <td>100000</td>\n",
       "      <td>control</td>\n",
       "      <td>1</td>\n",
       "    </tr>\n",
       "    <tr>\n",
       "      <th>1</th>\n",
       "      <td>100001</td>\n",
       "      <td>treatment</td>\n",
       "      <td>0</td>\n",
       "    </tr>\n",
       "    <tr>\n",
       "      <th>2</th>\n",
       "      <td>100002</td>\n",
       "      <td>treatment</td>\n",
       "      <td>0</td>\n",
       "    </tr>\n",
       "    <tr>\n",
       "      <th>3</th>\n",
       "      <td>100003</td>\n",
       "      <td>treatment</td>\n",
       "      <td>0</td>\n",
       "    </tr>\n",
       "    <tr>\n",
       "      <th>4</th>\n",
       "      <td>100004</td>\n",
       "      <td>control</td>\n",
       "      <td>0</td>\n",
       "    </tr>\n",
       "    <tr>\n",
       "      <th>...</th>\n",
       "      <td>...</td>\n",
       "      <td>...</td>\n",
       "      <td>...</td>\n",
       "    </tr>\n",
       "    <tr>\n",
       "      <th>1997</th>\n",
       "      <td>101997</td>\n",
       "      <td>control</td>\n",
       "      <td>0</td>\n",
       "    </tr>\n",
       "    <tr>\n",
       "      <th>1998</th>\n",
       "      <td>101998</td>\n",
       "      <td>control</td>\n",
       "      <td>0</td>\n",
       "    </tr>\n",
       "    <tr>\n",
       "      <th>1999</th>\n",
       "      <td>101999</td>\n",
       "      <td>control</td>\n",
       "      <td>0</td>\n",
       "    </tr>\n",
       "    <tr>\n",
       "      <th>2000</th>\n",
       "      <td>100000</td>\n",
       "      <td>control</td>\n",
       "      <td>0</td>\n",
       "    </tr>\n",
       "    <tr>\n",
       "      <th>2001</th>\n",
       "      <td>100001</td>\n",
       "      <td>control</td>\n",
       "      <td>0</td>\n",
       "    </tr>\n",
       "  </tbody>\n",
       "</table>\n",
       "<p>2002 rows × 3 columns</p>\n",
       "</div>"
      ],
      "text/plain": [
       "      user_id      group  converted\n",
       "0      100000    control          1\n",
       "1      100001  treatment          0\n",
       "2      100002  treatment          0\n",
       "3      100003  treatment          0\n",
       "4      100004    control          0\n",
       "...       ...        ...        ...\n",
       "1997   101997    control          0\n",
       "1998   101998    control          0\n",
       "1999   101999    control          0\n",
       "2000   100000    control          0\n",
       "2001   100001    control          0\n",
       "\n",
       "[2002 rows x 3 columns]"
      ]
     },
     "execution_count": 18,
     "metadata": {},
     "output_type": "execute_result"
    }
   ],
   "source": [
    "assigned"
   ]
  },
  {
   "cell_type": "code",
   "execution_count": 21,
   "id": "eb063ad8-7da3-4d84-b49c-4035eb548906",
   "metadata": {},
   "outputs": [],
   "source": [
    "# Save\n",
    "assigned.to_csv(\"../data/ab_test_data.csv\", index=False)"
   ]
  },
  {
   "cell_type": "code",
   "execution_count": null,
   "id": "2ca9a443-e5b6-4364-b5e3-d123b4e275e2",
   "metadata": {},
   "outputs": [],
   "source": []
  }
 ],
 "metadata": {
  "kernelspec": {
   "display_name": "Python 3 (ipykernel)",
   "language": "python",
   "name": "python3"
  },
  "language_info": {
   "codemirror_mode": {
    "name": "ipython",
    "version": 3
   },
   "file_extension": ".py",
   "mimetype": "text/x-python",
   "name": "python",
   "nbconvert_exporter": "python",
   "pygments_lexer": "ipython3",
   "version": "3.12.7"
  }
 },
 "nbformat": 4,
 "nbformat_minor": 5
}
